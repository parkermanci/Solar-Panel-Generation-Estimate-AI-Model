{
  "cells": [
    {
      "cell_type": "code",
      "execution_count": null,
      "metadata": {
        "id": "zdNL03GWC1oA"
      },
      "outputs": [],
      "source": [
        "import pandas as pd\n",
        "dataset = pd.read_csv('solarpowergeneration.csv')"
      ]
    },
    {
      "cell_type": "code",
      "execution_count": null,
      "metadata": {
        "id": "V-PpjTgCiVSB"
      },
      "outputs": [],
      "source": [
        "x = dataset.drop(columns=['power-generated', 'visibility'])"
      ]
    },
    {
      "cell_type": "code",
      "execution_count": null,
      "metadata": {
        "id": "vDtTJ-UeiwVX"
      },
      "outputs": [],
      "source": [
        "y = dataset[\"power-generated\"]"
      ]
    },
    {
      "cell_type": "code",
      "execution_count": null,
      "metadata": {
        "id": "JJvZ-tR0i-K3"
      },
      "outputs": [],
      "source": [
        "from sklearn.model_selection import train_test_split\n",
        "x_train, x_test, y_train, y_test = train_test_split(x, y, test_size = 0.2)"
      ]
    },
    {
      "cell_type": "code",
      "execution_count": null,
      "metadata": {
        "id": "74RoYhZ8jvcS"
      },
      "outputs": [],
      "source": [
        "import tensorflow as tf\n",
        "model = tf.keras.models.Sequential()"
      ]
    },
    {
      "cell_type": "code",
      "execution_count": null,
      "metadata": {
        "id": "MOzx0bgwkHg-"
      },
      "outputs": [],
      "source": [
        "model.add(tf.keras.layers.Dense(9, input_shape = x_train.shape[1:], activation = 'tanh'))\n",
        "model.add(tf.keras.layers.Dense(3, activation = 'linear'))\n",
        "model.add(tf.keras.layers.Dense(1, activation = 'linear'))\n",
        "model.compile(optimizer = 'adam', loss = 'KLD', metrics = 'accuracy')"
      ]
    },
    {
      "cell_type": "code",
      "execution_count": null,
      "metadata": {
        "id": "6tUT4fsYmAQC"
      },
      "outputs": [],
      "source": [
        "model.fit(x_train,y_train,epochs=100)"
      ]
    },
    {
      "cell_type": "code",
      "execution_count": null,
      "metadata": {
        "id": "nyGyaX4IIItL"
      },
      "outputs": [],
      "source": [
        "model.evaluate(x_test, y_test)"
      ]
    }
  ],
  "metadata": {
    "colab": {
      "provenance": []
    },
    "kernelspec": {
      "display_name": "Python 3",
      "name": "python3"
    },
    "language_info": {
      "name": "python"
    }
  },
  "nbformat": 4,
  "nbformat_minor": 0
}